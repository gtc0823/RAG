{
  "nbformat": 4,
  "nbformat_minor": 0,
  "metadata": {
    "colab": {
      "provenance": [],
      "gpuType": "T4",
      "private_outputs": true,
      "include_colab_link": true
    },
    "kernelspec": {
      "name": "python3",
      "display_name": "Python 3"
    },
    "language_info": {
      "name": "python"
    },
    "accelerator": "GPU"
  },
  "cells": [
    {
      "cell_type": "markdown",
      "metadata": {
        "id": "view-in-github",
        "colab_type": "text"
      },
      "source": [
        "<a href=\"https://colab.research.google.com/github/gtc0823/RAG/blob/main/RAG01_%E6%89%93%E9%80%A0%E5%90%91%E9%87%8F%E8%B3%87%E6%96%99%E5%BA%AB.ipynb\" target=\"_parent\"><img src=\"https://colab.research.google.com/assets/colab-badge.svg\" alt=\"Open In Colab\"/></a>"
      ]
    },
    {
      "cell_type": "markdown",
      "source": [
        "### 1. 建立資料夾"
      ],
      "metadata": {
        "id": "2x0CkPdF8O4n"
      }
    },
    {
      "cell_type": "code",
      "execution_count": null,
      "metadata": {
        "id": "Gfq9Ca9C71vz"
      },
      "outputs": [],
      "source": [
        "import os\n",
        "upload_dir = \"uploaded_docs\"\n",
        "os.makedirs(upload_dir, exist_ok=True)\n",
        "print(f\"請將你的 .txt, .pdf, .docx 檔案放到這個資料夾中： {upload_dir}\")"
      ]
    },
    {
      "cell_type": "markdown",
      "source": [
        "<font color=\"red\">請手動上傳自己的檔案再繼續。</font>"
      ],
      "metadata": {
        "id": "rzgPmz8U8dig"
      }
    },
    {
      "cell_type": "markdown",
      "source": [
        "### 2. 更新必要套件並引入"
      ],
      "metadata": {
        "id": "xyEPtSec8XHm"
      }
    },
    {
      "cell_type": "code",
      "source": [
        "!pip install -U langchain langchain-community pypdf python-docx sentence-transformers faiss-cpu"
      ],
      "metadata": {
        "id": "mWVwCLE49l2F",
        "collapsed": true
      },
      "execution_count": null,
      "outputs": []
    },
    {
      "cell_type": "code",
      "source": [
        "from langchain_community.document_loaders import TextLoader, PyPDFLoader, UnstructuredWordDocumentLoader\n",
        "from langchain.text_splitter import RecursiveCharacterTextSplitter\n",
        "from langchain.embeddings import HuggingFaceEmbeddings\n",
        "from langchain.vectorstores import FAISS"
      ],
      "metadata": {
        "id": "vl3FTfQM8VE1"
      },
      "execution_count": null,
      "outputs": []
    },
    {
      "cell_type": "markdown",
      "source": [
        "### 3. 依 e5 建議加入\n",
        "\n",
        "自訂支援 E5 的 embedding 模型（加上 \"passage:\" / \"query:\" 前綴）"
      ],
      "metadata": {
        "id": "BQVRqMsu-V78"
      }
    },
    {
      "cell_type": "markdown",
      "source": [
        "可以直接使用 E5 模型做查詢與文件的語意比對，而不需要在每次呼叫時都手動加上 \"query: \" 或 \"passage: \""
      ],
      "metadata": {
        "id": "1YS-BovY_RnD"
      }
    },
    {
      "cell_type": "code",
      "source": [
        "from langchain.embeddings import HuggingFaceEmbeddings\n",
        "\n",
        "class CustomE5Embedding(HuggingFaceEmbeddings):\n",
        "    def embed_documents(self, texts):\n",
        "        texts = [f\"passage: {t}\" for t in texts]\n",
        "        return super().embed_documents(texts)\n",
        "\n",
        "    def embed_query(self, text):\n",
        "        return super().embed_query(f\"query: {text}\")"
      ],
      "metadata": {
        "id": "Hs3YZvis9CiJ"
      },
      "execution_count": null,
      "outputs": []
    },
    {
      "cell_type": "markdown",
      "source": [
        "### 4. 載入文件"
      ],
      "metadata": {
        "id": "jmWZud76-jRt"
      }
    },
    {
      "cell_type": "code",
      "source": [
        "import json\n",
        "from langchain.schema import Document"
      ],
      "metadata": {
        "id": "L6SWNv3f6ctE"
      },
      "execution_count": null,
      "outputs": []
    },
    {
      "cell_type": "code",
      "source": [
        "folder_path = upload_dir\n",
        "documents = []\n",
        "for file in os.listdir(folder_path):\n",
        "    path = os.path.join(folder_path, file)\n",
        "    if file.endswith(\".txt\"):\n",
        "        loader = TextLoader(path)\n",
        "    elif file.endswith(\".pdf\"):\n",
        "        loader = PyPDFLoader(path)\n",
        "    elif file.endswith(\".docx\"):\n",
        "        loader = UnstructuredWordDocumentLoader(path)\n",
        "    else:\n",
        "        continue\n",
        "    documents.extend(loader.load())"
      ],
      "metadata": {
        "id": "cfZPj3Oo-fPZ"
      },
      "execution_count": null,
      "outputs": []
    },
    {
      "cell_type": "markdown",
      "source": [
        "### 5. 建立向量資料庫"
      ],
      "metadata": {
        "id": "wvg1cAwn-rLC"
      }
    },
    {
      "cell_type": "markdown",
      "source": [
        "把一整份的 documents 切成小段\n",
        "\n",
        "\n",
        "*   chunk_size=500：每段最多 500 個字元。\n",
        "*   chunk_overlap=50：每段之間重疊 50 個字元（避免切斷語意）\n",
        "\n",
        "\n",
        "\n",
        "\n",
        "\n"
      ],
      "metadata": {
        "id": "ihgS6_rh_xsK"
      }
    },
    {
      "cell_type": "code",
      "source": [
        "splitter = RecursiveCharacterTextSplitter(chunk_size=500, chunk_overlap=50)\n",
        "split_docs = splitter.split_documents(documents)"
      ],
      "metadata": {
        "id": "EMke5c4n-m1s"
      },
      "execution_count": null,
      "outputs": []
    },
    {
      "cell_type": "markdown",
      "source": [
        "嵌入模型：CustomE5Embedding"
      ],
      "metadata": {
        "id": "AO13nMr7BBYC"
      }
    },
    {
      "cell_type": "markdown",
      "source": [
        "建立向量資料庫（FAISS）\n",
        "\n",
        "將分段後的 split_docs 經過嵌入模型轉成向量，再餵進 FAISS 建立索引，之後就能用來做快速的語意搜尋\n",
        "\n",
        "FAISS 是 Facebook 提供的高效「相似度搜尋引擎」，能在大規模向量中快速找出最相近的項目"
      ],
      "metadata": {
        "id": "Ew08nB1TSv9f"
      }
    },
    {
      "cell_type": "code",
      "source": [
        "embedding_model = CustomE5Embedding(model_name=\"intfloat/multilingual-e5-small\")\n",
        "vectorstore = FAISS.from_documents(split_docs, embedding_model)"
      ],
      "metadata": {
        "id": "RZqJOiaE-vrI",
        "collapsed": true
      },
      "execution_count": null,
      "outputs": []
    },
    {
      "cell_type": "markdown",
      "source": [
        "### 6. 儲存向量資料庫"
      ],
      "metadata": {
        "id": "dqvR4i8Y-5du"
      }
    },
    {
      "cell_type": "code",
      "source": [
        "vectorstore.save_local(\"faiss_db\")"
      ],
      "metadata": {
        "id": "KxdIhkku-2Zf"
      },
      "execution_count": null,
      "outputs": []
    },
    {
      "cell_type": "code",
      "source": [
        "!zip -r faiss_db.zip faiss_db"
      ],
      "metadata": {
        "id": "Pw23tkEKUfPW"
      },
      "execution_count": null,
      "outputs": []
    },
    {
      "cell_type": "code",
      "source": [
        "print(\"✅ 壓縮好的向量資料庫已儲存為 'faiss_db.zip'，請下載此檔案備份。\")"
      ],
      "metadata": {
        "id": "vCiRAlnrVUCJ"
      },
      "execution_count": null,
      "outputs": []
    }
  ]
}